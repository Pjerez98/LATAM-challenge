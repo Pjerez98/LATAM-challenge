{
 "cells": [
  {
   "cell_type": "markdown",
   "metadata": {},
   "source": [
    "En este archivo puedes escribir lo que estimes conveniente. Te recomendamos detallar tu solución y todas las suposiciones que estás considerando. Aquí puedes ejecutar las funciones que definiste en los otros archivos de la carpeta src, medir el tiempo, memoria, etc."
   ]
  },
  {
   "cell_type": "code",
   "execution_count": 1,
   "metadata": {},
   "outputs": [],
   "source": [
    "file_path = \"farmers-protest-tweets-2021-2-4.json\""
   ]
  },
  {
   "cell_type": "markdown",
   "metadata": {},
   "source": [
    "# Importación de librerías"
   ]
  },
  {
   "cell_type": "code",
   "execution_count": 2,
   "metadata": {},
   "outputs": [],
   "source": [
    "import time\n",
    "import psycopg2\n",
    "import pandas as pd\n",
    "import numpy as np\n",
    "import json  \n",
    "import xlsxwriter\n",
    "from datetime import datetime, timedelta,date\n",
    "import copy\n",
    "pd.options.display.max_columns = None\n",
    "import warnings\n",
    "warnings.simplefilter(action='ignore', category=FutureWarning)\n",
    "inicio_ejecucion = time.time()"
   ]
  },
  {
   "cell_type": "code",
   "execution_count": 100,
   "metadata": {},
   "outputs": [
    {
     "name": "stdout",
     "output_type": "stream",
     "text": [
      "Collecting memory-profiler\n",
      "  Downloading memory_profiler-0.61.0-py3-none-any.whl (31 kB)\n",
      "Requirement already satisfied: psutil in c:\\users\\richard salgado\\anaconda3\\lib\\site-packages (from memory-profiler) (5.8.0)\n",
      "Installing collected packages: memory-profiler\n",
      "Successfully installed memory-profiler-0.61.0\n",
      "Note: you may need to restart the kernel to use updated packages.\n"
     ]
    }
   ],
   "source": [
    "pip install memory-profiler\n"
   ]
  },
  {
   "cell_type": "code",
   "execution_count": 102,
   "metadata": {},
   "outputs": [],
   "source": [
    "import cProfile\n",
    "from memory_profiler import profile"
   ]
  },
  {
   "cell_type": "code",
   "execution_count": 111,
   "metadata": {},
   "outputs": [
    {
     "name": "stdout",
     "output_type": "stream",
     "text": [
      "ERROR: Could not find file C:\\Users\\Richard Salgado\\AppData\\Local\\Temp\\ipykernel_23852\\1130748210.py\n",
      "ERROR: Could not find file C:\\Users\\Richard Salgado\\AppData\\Local\\Temp\\ipykernel_23852\\1130748210.py\n",
      "       Función  Tiempo de ejecución (s)  Uso de memoria (MB)\n",
      "0  tu_funcion1                  0.76069                    0\n",
      "1  tu_funcion2                  6.92649                    0\n"
     ]
    }
   ],
   "source": [
    "import timeit\n",
    "from memory_profiler import profile\n",
    "import pandas as pd\n",
    "\n",
    "# Diccionario para almacenar los resultados\n",
    "resultados = {'Función': [], 'Tiempo de ejecución (s)': [], 'Uso de memoria (MB)': []}\n",
    "\n",
    "# Función que quieres medir\n",
    "@profile(precision=4)\n",
    "def tu_funcion1():\n",
    "    # Código de la función\n",
    "    total = 0\n",
    "    for i in range(1000000):\n",
    "        total += i\n",
    "    return total\n",
    "\n",
    "# Función que quieres medir\n",
    "@profile(precision=4)\n",
    "def tu_funcion2():\n",
    "    # Código de la función\n",
    "    total = 0\n",
    "    for i in range(10000000):\n",
    "        total += i\n",
    "    return total\n",
    "\n",
    "funciones = {'tu_funcion1':tu_funcion1,'tu_funcion2':tu_funcion2}\n",
    "for clave,valor in funciones.items():\n",
    "# Medición de tiempo de ejecución y uso de memoria para tu_funcion1\n",
    "    resultados['Función'].append(clave)\n",
    "    tiempo_ejecucion = timeit.timeit(valor, number=1)\n",
    "    resultados['Tiempo de ejecución (s)'].append(tiempo_ejecucion)\n",
    "    resultados['Uso de memoria (MB)'].append(0)  # Puedes ajustar esto según los resultados\n",
    "\n",
    "\n",
    "\n",
    "# Crear un DataFrame con pandas\n",
    "df_resultados = pd.DataFrame(resultados)\n",
    "\n",
    "# Mostrar el cuadro resumen\n",
    "print(df_resultados)"
   ]
  },
  {
   "cell_type": "markdown",
   "metadata": {},
   "source": [
    "# Lectura de datos"
   ]
  },
  {
   "cell_type": "code",
   "execution_count": 7,
   "metadata": {},
   "outputs": [],
   "source": [
    "\n",
    "\n",
    "# Nombre del archivo JSON\n",
    "file_path\n",
    "\n",
    "import json\n",
    "\n",
    "\n",
    "# Lista para almacenar los tweets\n",
    "tweets = []\n",
    "\n",
    "# Abrir el archivo y leer línea por línea\n",
    "with open(file_path, 'r', encoding='utf-8') as file:\n",
    "    for line in file:\n",
    "        try:\n",
    "            # Cargar el tweet desde la línea actual\n",
    "            tweet_data = json.loads(line.strip())\n",
    "            # Agregar el tweet a la lista\n",
    "            tweets.append(tweet_data)\n",
    "        except json.JSONDecodeError as e:\n",
    "            print(f\"Error al decodificar JSON en la línea: {e}\")\n",
    "\n",
    "# Ahora 'tweets' contiene una lista de diccionarios, cada uno representando un tweet\n",
    "# Puedes acceder a los tweets usando índices en la lista\n"
   ]
  },
  {
   "cell_type": "code",
   "execution_count": 99,
   "metadata": {},
   "outputs": [],
   "source": [
    "import json\n",
    "from typing import List, Tuple\n",
    "from collections import defaultdict\n",
    "from collections import Counter\n",
    "from datetime import datetime\n",
    "import emoji\n",
    "\n"
   ]
  },
  {
   "cell_type": "code",
   "execution_count": null,
   "metadata": {},
   "outputs": [],
   "source": [
    "def load_tweets(file_path: str) -> List[dict]:\n",
    "    tweets = []\n",
    "    with open(file_path, \"r\", encoding=\"utf-8\") as file:\n",
    "        for line in file:\n",
    "            tweet_data = json.loads(line)\n",
    "            tweets.append(tweet_data)\n",
    "    return tweets"
   ]
  },
  {
   "cell_type": "markdown",
   "metadata": {},
   "source": [
    "# Problema 1: Top 10 fechas con más tweets y usuarios con más publicaciones"
   ]
  },
  {
   "cell_type": "markdown",
   "metadata": {},
   "source": [
    "Optimización de tiempo"
   ]
  },
  {
   "cell_type": "code",
   "execution_count": 134,
   "metadata": {},
   "outputs": [],
   "source": [
    "## CREADA ORIGINAL\n",
    "#@profile(precision=4)\n",
    "def q1_time_1(file_path: str) -> List[Tuple[str, int]]:\n",
    "    \n",
    "    tweets = load_tweets(file_path)\n",
    "    # Por cada tweet, guardamos su fecha respectiva\n",
    "    tweets_fechas = [datetime.strptime(tweet[\"date\"], \"%Y-%m-%dT%H:%M:%S%z\").date() for tweet in tweets]\n",
    "    # Luego, se cuenta el número de tweets por fecha, análogo a realizar un groupby por fecha y utilizar la función agregada count\n",
    "    contador_fechas_tweets = Counter(tweets_fechas)\n",
    "    # Finalmente, ordenamos de mayor a menor, y luego seleccionamos las top 10 fechas\n",
    "    fechas_ordenadas_tweets = sorted(contador_fechas_tweets.items(), key=lambda x: x[1], reverse=True)\n",
    "    top_10_fechas = fechas_ordenadas_tweets[:10]\n",
    "    top_10_fechas\n",
    "\n",
    "    # De la misma forma, procedemos con los usuarios\n",
    "\n",
    "    # Por cada tweet, guardamos su usuario respectivo\n",
    "    tweets_users = [tweet[\"user\"][\"username\"] for tweet in tweets]\n",
    "    # Luego, se cuenta el número de tweets por fecha, análogo a realizar un groupby por fecha y utilizar la función agregada count\n",
    "    contador_fechas_users = Counter(tweets_users)\n",
    "    # Finalmente, ordenamos de mayor a menor, y luego seleccionamos las top 10 fechas\n",
    "    user_ordenados_tweets = sorted(contador_fechas_users.items(), key=lambda x: x[1], reverse=True)\n",
    "    top_10_users = user_ordenados_tweets[:10]\n",
    "    top_10_users\n",
    "\n",
    "    top_dates_users = [(fecha[0],user[0]) for fecha,user in zip(top_10_fechas,top_10_users)]\n",
    "    top_dates_users\n",
    "\n",
    "    return top_dates_users"
   ]
  },
  {
   "cell_type": "code",
   "execution_count": 135,
   "metadata": {},
   "outputs": [],
   "source": [
    "#@profile(precision=4)\n",
    "def q1_time_2(file_path: str) -> List[Tuple[str, int]]:\n",
    "    tweets = load_tweets(file_path)\n",
    "\n",
    "    # Contadores para fechas y usuarios\n",
    "    contador_fechas = Counter()\n",
    "    contador_users = Counter()\n",
    "\n",
    "    # Procesar cada tweet una vez y actualizar los contadores\n",
    "    for tweet in tweets:\n",
    "        fecha = datetime.strptime(tweet[\"date\"], \"%Y-%m-%dT%H:%M:%S%z\").date()\n",
    "        user = tweet[\"user\"][\"username\"]\n",
    "\n",
    "        contador_fechas[fecha] += 1\n",
    "        contador_users[user] += 1\n",
    "\n",
    "    # Obtener las top 10 fechas y usuarios\n",
    "    top_10_fechas = contador_fechas.most_common(10)\n",
    "    top_10_users = contador_users.most_common(10)\n",
    "\n",
    "    # Combinar fechas y usuarios en una lista de tuplas\n",
    "    top_dates_users = [(fecha[0], user[0]) for fecha, user in zip(top_10_fechas, top_10_users)]\n",
    "\n",
    "    return top_dates_users"
   ]
  },
  {
   "cell_type": "code",
   "execution_count": 125,
   "metadata": {},
   "outputs": [
    {
     "name": "stdout",
     "output_type": "stream",
     "text": [
      "ERROR: Could not find file C:\\Users\\Richard Salgado\\AppData\\Local\\Temp\\ipykernel_23852\\3819832057.py\n",
      "ERROR: Could not find file C:\\Users\\Richard Salgado\\AppData\\Local\\Temp\\ipykernel_23852\\2932196560.py\n"
     ]
    }
   ],
   "source": [
    "\n",
    "# Diccionario para almacenar los resultados\n",
    "resultados = {'Función': [], 'Tiempo de ejecución (s)': [], 'Uso de memoria (MB)': []}\n",
    "\n",
    "\n",
    "funciones = {'q1_time_1':q1_time_1,'q1_time_2':q1_time_2}\n",
    "for clave,valor in funciones.items():\n",
    "# Medición de tiempo de ejecución y uso de memoria para tu_funcion1\n",
    "    resultados['Función'].append(clave)\n",
    "    tiempo_ejecucion = timeit.timeit(valor, number=1)\n",
    "    resultados['Tiempo de ejecución (s)'].append(tiempo_ejecucion)\n",
    "    resultados['Uso de memoria (MB)'].append(0)  # Puedes ajustar esto según los resultados\n",
    "\n",
    "# Crear un DataFrame con pandas\n",
    "df_resultados = pd.DataFrame(resultados)"
   ]
  },
  {
   "cell_type": "code",
   "execution_count": 127,
   "metadata": {},
   "outputs": [
    {
     "data": {
      "text/html": [
       "<div>\n",
       "<style scoped>\n",
       "    .dataframe tbody tr th:only-of-type {\n",
       "        vertical-align: middle;\n",
       "    }\n",
       "\n",
       "    .dataframe tbody tr th {\n",
       "        vertical-align: top;\n",
       "    }\n",
       "\n",
       "    .dataframe thead th {\n",
       "        text-align: right;\n",
       "    }\n",
       "</style>\n",
       "<table border=\"1\" class=\"dataframe\">\n",
       "  <thead>\n",
       "    <tr style=\"text-align: right;\">\n",
       "      <th></th>\n",
       "      <th>Función</th>\n",
       "      <th>Tiempo de ejecución (s)</th>\n",
       "      <th>Uso de memoria (MB)</th>\n",
       "    </tr>\n",
       "  </thead>\n",
       "  <tbody>\n",
       "    <tr>\n",
       "      <th>0</th>\n",
       "      <td>q1_time_1</td>\n",
       "      <td>70.224666</td>\n",
       "      <td>0</td>\n",
       "    </tr>\n",
       "    <tr>\n",
       "      <th>1</th>\n",
       "      <td>q1_time_2</td>\n",
       "      <td>53.939737</td>\n",
       "      <td>0</td>\n",
       "    </tr>\n",
       "  </tbody>\n",
       "</table>\n",
       "</div>"
      ],
      "text/plain": [
       "     Función  Tiempo de ejecución (s)  Uso de memoria (MB)\n",
       "0  q1_time_1                70.224666                    0\n",
       "1  q1_time_2                53.939737                    0"
      ]
     },
     "execution_count": 127,
     "metadata": {},
     "output_type": "execute_result"
    }
   ],
   "source": [
    "df_resultados"
   ]
  },
  {
   "cell_type": "code",
   "execution_count": 128,
   "metadata": {},
   "outputs": [
    {
     "name": "stdout",
     "output_type": "stream",
     "text": [
      "ERROR: Could not find file C:\\Users\\Richard Salgado\\AppData\\Local\\Temp\\ipykernel_23852\\3819832057.py\n"
     ]
    },
    {
     "data": {
      "text/plain": [
       "[(datetime.date(2021, 2, 12), 'jot__b'),\n",
       " (datetime.date(2021, 2, 13), 'rebelpacifist'),\n",
       " (datetime.date(2021, 2, 17), 'MaanDee08215437'),\n",
       " (datetime.date(2021, 2, 16), 'Gurpreetd86'),\n",
       " (datetime.date(2021, 2, 14), 'GurmVicky'),\n",
       " (datetime.date(2021, 2, 18), 'shells_n_petals'),\n",
       " (datetime.date(2021, 2, 15), 'preetysaini321'),\n",
       " (datetime.date(2021, 2, 20), 'ish_kayy'),\n",
       " (datetime.date(2021, 2, 23), 'KaurDosanjh1979'),\n",
       " (datetime.date(2021, 2, 19), 'DigitalKisanBot')]"
      ]
     },
     "execution_count": 128,
     "metadata": {},
     "output_type": "execute_result"
    }
   ],
   "source": [
    "q1_time_1()"
   ]
  },
  {
   "cell_type": "code",
   "execution_count": 136,
   "metadata": {},
   "outputs": [
    {
     "data": {
      "text/plain": [
       "[(datetime.date(2021, 2, 12), 'jot__b'),\n",
       " (datetime.date(2021, 2, 13), 'rebelpacifist'),\n",
       " (datetime.date(2021, 2, 17), 'MaanDee08215437'),\n",
       " (datetime.date(2021, 2, 16), 'Gurpreetd86'),\n",
       " (datetime.date(2021, 2, 14), 'GurmVicky'),\n",
       " (datetime.date(2021, 2, 18), 'shells_n_petals'),\n",
       " (datetime.date(2021, 2, 15), 'preetysaini321'),\n",
       " (datetime.date(2021, 2, 20), 'ish_kayy'),\n",
       " (datetime.date(2021, 2, 23), 'KaurDosanjh1979'),\n",
       " (datetime.date(2021, 2, 19), 'DigitalKisanBot')]"
      ]
     },
     "execution_count": 136,
     "metadata": {},
     "output_type": "execute_result"
    }
   ],
   "source": [
    "q1 = q1_time_2(file_path)\n",
    "q1"
   ]
  },
  {
   "cell_type": "markdown",
   "metadata": {},
   "source": [
    "Optimización de tiempo"
   ]
  },
  {
   "cell_type": "markdown",
   "metadata": {},
   "source": [
    "Optimización de memoria"
   ]
  },
  {
   "cell_type": "markdown",
   "metadata": {},
   "source": [
    "# Problema 2: Top 10 emojis más usados"
   ]
  },
  {
   "cell_type": "markdown",
   "metadata": {},
   "source": [
    "Optimización de tiempo"
   ]
  },
  {
   "cell_type": "code",
   "execution_count": 65,
   "metadata": {},
   "outputs": [],
   "source": [
    "from typing import List, Tuple\n",
    "from collections import Counter\n",
    "\n",
    "def q2_time(file_path: str) -> List[Tuple[str, int]]:\n",
    "    tweets = load_tweets(file_path)\n",
    "    contenidos = [tweet['content'] for tweet in tweets]\n",
    "\n",
    "    # Se obtiene los emojis ÚNICOS presentes en cada tweet, para ver cual es el más común en todos los tweets,\n",
    "    emojis = [list(set([fila['emoji'] for fila in emoji.emoji_list(contenido)])) for contenido in contenidos]\n",
    "    emojis_plano = [emojii for lista_emojis in emojis for emojii in lista_emojis]\n",
    "    emojis_plano\n",
    "    \n",
    "    # Conteo de emojis\n",
    "    emojis_counter = Counter(emojis_plano)\n",
    "    \n",
    "    # Encontrar los top 10 emojis\n",
    "    top_emojis = emojis_counter.most_common(10)\n",
    "\n",
    "    return top_emojis\n",
    "\n"
   ]
  },
  {
   "cell_type": "code",
   "execution_count": 66,
   "metadata": {},
   "outputs": [],
   "source": [
    "q2 = q2_time(file_path)"
   ]
  },
  {
   "cell_type": "code",
   "execution_count": null,
   "metadata": {},
   "outputs": [],
   "source": [
    "funciones = {'q2_time':q2_time,'q2_time':q2_time}\n",
    "for clave,valor in funciones.items():\n",
    "# Medición de tiempo de ejecución y uso de memoria para tu_funcion1\n",
    "    resultados['Función'].append(clave)\n",
    "    tiempo_ejecucion = timeit.timeit(valor(file_path), number=1)\n",
    "    resultados['Tiempo de ejecución (s)'].append(tiempo_ejecucion)\n",
    "    resultados['Uso de memoria (MB)'].append(0)  # Puedes ajustar esto según los resultados"
   ]
  },
  {
   "cell_type": "code",
   "execution_count": 67,
   "metadata": {},
   "outputs": [
    {
     "data": {
      "text/plain": [
       "[('🙏', 3203),\n",
       " ('😂', 1387),\n",
       " ('🚜', 1334),\n",
       " ('🌾', 1298),\n",
       " ('❤️', 1205),\n",
       " ('✊', 1110),\n",
       " ('🇮🇳', 938),\n",
       " ('🤣', 759),\n",
       " ('👍', 634),\n",
       " ('🙏🏻', 580)]"
      ]
     },
     "execution_count": 67,
     "metadata": {},
     "output_type": "execute_result"
    }
   ],
   "source": [
    "q2"
   ]
  },
  {
   "cell_type": "markdown",
   "metadata": {},
   "source": [
    "Optimización de memoria"
   ]
  },
  {
   "cell_type": "markdown",
   "metadata": {},
   "source": [
    "# Problema 3: Top 10 histórico de usuarios más influyentes en función del conteo de menciones"
   ]
  },
  {
   "cell_type": "markdown",
   "metadata": {},
   "source": [
    "Optimización de tiempo"
   ]
  },
  {
   "cell_type": "code",
   "execution_count": 97,
   "metadata": {},
   "outputs": [],
   "source": [
    "from typing import List, Tuple\n",
    "from collections import Counter\n",
    "\n",
    "def q3_time(file_path: str) -> List[Tuple[str, int]]:\n",
    "    tweets = load_tweets(file_path)\n",
    "    mentions = [tweet[\"mentionedUsers\"] for tweet in tweets]\n",
    "    usernames = [username['username'] for mention in mentions if mention is not None for username in mention if username is not None]\n",
    "\n",
    "    # Conteo de menciones\n",
    "    mentions_counter = Counter(usernames)\n",
    "\n",
    "    # Encontrar los top 10 usuarios mencionados\n",
    "    top_users = mentions_counter.most_common(10)\n",
    "\n",
    "    return top_users"
   ]
  },
  {
   "cell_type": "code",
   "execution_count": null,
   "metadata": {},
   "outputs": [],
   "source": [
    "funciones = {'q3_time':q3_time,'q3_time':q3_time}\n",
    "for clave,valor in funciones.items():\n",
    "# Medición de tiempo de ejecución y uso de memoria para tu_funcion1\n",
    "    resultados['Función'].append(clave)\n",
    "    tiempo_ejecucion = timeit.timeit(valor(file_path), number=1)\n",
    "    resultados['Tiempo de ejecución (s)'].append(tiempo_ejecucion)\n",
    "    resultados['Uso de memoria (MB)'].append(0)  # Puedes ajustar esto según los resultados"
   ]
  },
  {
   "cell_type": "code",
   "execution_count": 98,
   "metadata": {},
   "outputs": [
    {
     "data": {
      "text/plain": [
       "[('narendramodi', 2265),\n",
       " ('Kisanektamorcha', 1840),\n",
       " ('RakeshTikaitBKU', 1644),\n",
       " ('PMOIndia', 1427),\n",
       " ('RahulGandhi', 1146),\n",
       " ('GretaThunberg', 1048),\n",
       " ('RaviSinghKA', 1019),\n",
       " ('rihanna', 986),\n",
       " ('UNHumanRights', 962),\n",
       " ('meenaharris', 926)]"
      ]
     },
     "execution_count": 98,
     "metadata": {},
     "output_type": "execute_result"
    }
   ],
   "source": [
    "q3 = q3_time(file_path)\n",
    "q3"
   ]
  },
  {
   "cell_type": "markdown",
   "metadata": {},
   "source": [
    "Optimización de memoria"
   ]
  }
 ],
 "metadata": {
  "kernelspec": {
   "display_name": "base",
   "language": "python",
   "name": "python3"
  },
  "language_info": {
   "codemirror_mode": {
    "name": "ipython",
    "version": 3
   },
   "file_extension": ".py",
   "mimetype": "text/x-python",
   "name": "python",
   "nbconvert_exporter": "python",
   "pygments_lexer": "ipython3",
   "version": "3.9.12"
  },
  "orig_nbformat": 4
 },
 "nbformat": 4,
 "nbformat_minor": 2
}
